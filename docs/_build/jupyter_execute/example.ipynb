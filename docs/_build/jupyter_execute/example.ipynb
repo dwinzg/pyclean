{
 "cells": [
  {
   "cell_type": "markdown",
   "metadata": {},
   "source": [
    "# Example usage\n",
    "\n",
    "Here we will describ how to use `pyclean` on a DataFrame to clean and compare:"
   ]
  },
  {
   "cell_type": "markdown",
   "metadata": {},
   "source": [
    "# Imports"
   ]
  },
  {
   "cell_type": "code",
   "execution_count": 1,
   "metadata": {},
   "outputs": [],
   "source": [
    "from pyclean import pyclean\n",
    "from pyclean.compare import compare_data\n",
    "import pandas as pd\n",
    "import numpy as np"
   ]
  },
  {
   "cell_type": "markdown",
   "metadata": {},
   "source": [
    "# Create a new DataFrame"
   ]
  },
  {
   "cell_type": "code",
   "execution_count": 2,
   "metadata": {},
   "outputs": [
    {
     "name": "stdout",
     "output_type": "stream",
     "text": [
      "   Column_0  Column_1  Column_2  Column_3  Column_4\n",
      "0         4        31         4        22        39\n",
      "1        97        46        33        91        94\n",
      "2         3        41         0        81        81\n",
      "3        77        38         1         8        93\n",
      "4        13        14        16        80        74\n"
     ]
    }
   ],
   "source": [
    "def generate_random_dataframe(num_rows: int, num_columns: int) -> pd.DataFrame:\n",
    "\n",
    "    data = {}\n",
    "\n",
    "    for col in range(num_columns):\n",
    "        column_name = f'Column_{col}'\n",
    "        data[column_name] = np.random.randint(0, 100, size=num_rows)\n",
    "\n",
    "    df = pd.DataFrame(data)\n",
    "\n",
    "    return df\n",
    "\n",
    "random_df = generate_random_dataframe(100, 5)\n",
    "print(random_df.head())"
   ]
  },
  {
   "cell_type": "markdown",
   "metadata": {},
   "source": [
    "# Clean DataFrame <br>\n",
    "Here we can clean the DataFrame through removing the missing values, and any possible duplicates"
   ]
  },
  {
   "cell_type": "code",
   "execution_count": 3,
   "metadata": {},
   "outputs": [
    {
     "name": "stdout",
     "output_type": "stream",
     "text": [
      "   Column_0  Column_1  Column_2  Column_3  Column_4\n",
      "0         4        31         4        22        39\n",
      "1        97        46        33        91        94\n",
      "2         3        41         0        81        81\n",
      "3        77        38         1         8        93\n",
      "4        13        14        16        80        74\n",
      "   Column_0  Column_1  Column_2  Column_3  Column_4\n",
      "0         4        31         4        22        39\n",
      "1        97        46        33        91        94\n",
      "2         3        41         0        81        81\n",
      "3        77        38         1         8        93\n",
      "4        13        14        16        80        74\n"
     ]
    }
   ],
   "source": [
    "cleaned_df = pyclean.remove_missing_values(random_df)\n",
    "print(cleaned_df.head())\n",
    "cleaned_df = pyclean.remove_duplicates(cleaned_df)\n",
    "print(cleaned_df.head())"
   ]
  },
  {
   "cell_type": "markdown",
   "metadata": {},
   "source": [
    "# Check for changes"
   ]
  },
  {
   "cell_type": "code",
   "execution_count": 4,
   "metadata": {},
   "outputs": [
    {
     "data": {
      "text/plain": [
       "{'missing_values': Column_0    0\n",
       " Column_1    0\n",
       " Column_2    0\n",
       " Column_3    0\n",
       " Column_4    0\n",
       " dtype: int64,\n",
       " 'unique_values': Column_0    0\n",
       " Column_1    0\n",
       " Column_2    0\n",
       " Column_3    0\n",
       " Column_4    0\n",
       " dtype: int64}"
      ]
     },
     "execution_count": 4,
     "metadata": {},
     "output_type": "execute_result"
    }
   ],
   "source": [
    "changes = compare_data(random_df, cleaned_df)\n",
    "changes"
   ]
  }
 ],
 "metadata": {
  "kernelspec": {
   "display_name": "Python 3",
   "language": "python",
   "name": "python3"
  },
  "language_info": {
   "codemirror_mode": {
    "name": "ipython",
    "version": 3
   },
   "file_extension": ".py",
   "mimetype": "text/x-python",
   "name": "python",
   "nbconvert_exporter": "python",
   "pygments_lexer": "ipython3",
   "version": "3.9.19"
  }
 },
 "nbformat": 4,
 "nbformat_minor": 4
}